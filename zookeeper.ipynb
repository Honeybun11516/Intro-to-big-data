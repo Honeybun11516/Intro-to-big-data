{
 "cells": [
  {
   "cell_type": "code",
   "execution_count": null,
   "id": "560151e9-0b6c-46d9-9e6d-53563acc8694",
   "metadata": {},
   "outputs": [],
   "source": [
    "Id like to learn more about Zookeeper because it is primarily used for failure recovery and it helps with synchronization across a cluster.\n",
    "\n",
    "Zookeeper has something called znodes, in ZooKeeper parlance - and these are similar to files and directories. Unlike a typical file system, which is designed for storage, ZooKeeper data is kept in-memory, which means ZooKeeper can achieve high throughput and low latency numbers.\n",
    "\n",
    "it is also replicated, fast and ordered.\n",
    "\n",
    "ZooKeeper is very fast and very simple. Since its goal, though, is to be a basis for the construction of more complicated services, such as synchronization, it provides a set of guarantees. These are:\n",
    "\n",
    "Sequential Consistency - Updates from a client will be applied in the order that they were sent.\n",
    "Atomicity - Updates either succeed or fail. No partial results.\n",
    "Single System Image - A client will see the same view of the service regardless of the server that it connects to. i.e., a client will never see an older view of the system even if the client fails over to a different server with the same session.\n",
    "Reliability - Once an update has been applied, it will persist from that time forward until a client overwrites the update.\n",
    "Timeliness - The clients view of the system is guaranteed to be up-to-date within a certain time bound."
   ]
  }
 ],
 "metadata": {
  "kernelspec": {
   "display_name": "Python 3 (ipykernel)",
   "language": "python",
   "name": "python3"
  },
  "language_info": {
   "codemirror_mode": {
    "name": "ipython",
    "version": 3
   },
   "file_extension": ".py",
   "mimetype": "text/x-python",
   "name": "python",
   "nbconvert_exporter": "python",
   "pygments_lexer": "ipython3",
   "version": "3.10.2"
  }
 },
 "nbformat": 4,
 "nbformat_minor": 5
}
